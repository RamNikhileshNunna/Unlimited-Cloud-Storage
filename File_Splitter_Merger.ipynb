{
  "nbformat": 4,
  "nbformat_minor": 0,
  "metadata": {
    "colab": {
      "provenance": []
    },
    "kernelspec": {
      "name": "python3",
      "display_name": "Python 3"
    },
    "language_info": {
      "name": "python"
    }
  },
  "cells": [
    {
      "cell_type": "markdown",
      "source": [
        "**Use this below cell if you want to use splitter for google drive files skip for local pc files**"
      ],
      "metadata": {
        "id": "qukzguu20bi-"
      }
    },
    {
      "cell_type": "code",
      "source": [
        "from google.colab import drive\n",
        "drive.mount(\"/content/drive\", force_remount=True)"
      ],
      "metadata": {
        "id": "ux0wS7US9hah"
      },
      "execution_count": null,
      "outputs": []
    },
    {
      "cell_type": "code",
      "execution_count": null,
      "metadata": {
        "id": "NUaxGFWIxY25"
      },
      "outputs": [],
      "source": [
        "import os\n",
        "def merge_chunks(input_folder, output_file_path):\n",
        "    with open(output_file_path, 'wb') as output_file:\n",
        "        list = []\n",
        "        for filename in os.listdir(input_folder):\n",
        "            list.append((filename))\n",
        "        list.sort()\n",
        "        print(list)\n",
        "        for filename in list:\n",
        "            print(filename)\n",
        "            chunk_path = input_folder + str(filename)\n",
        "            print(f\"Reading chunk: {chunk_path}\")\n",
        "            with open(chunk_path, 'rb') as chunk_file:\n",
        "                chunk_data = chunk_file.read()\n",
        "                print(chunk_data)\n",
        "                output_file.write(chunk_data)\n",
        "\n",
        "def split_file(file_path,chunk_size, output_folder):\n",
        "    os.makedirs(output_folder, exist_ok=True)\n",
        "    file_name = os.path.basename(file_path)\n",
        "    with open(file_path, 'rb') as file:\n",
        "        chunk_count = 1\n",
        "        chunk = file.read(chunk_size)\n",
        "        while chunk:\n",
        "            chunk_file_path = os.path.join(output_folder, f'{file_name}_chunk{chunk_count:03d}')\n",
        "            with open(chunk_file_path, 'wb') as chunk_file:\n",
        "                chunk_file.write(chunk)\n",
        "            print(f'{chunk_file_path}')\n",
        "            chunk_count += 1\n",
        "            chunk = file.read(chunk_size)"
      ]
    },
    {
      "cell_type": "markdown",
      "source": [
        "**Below Cell will split your file into chunks (chunks are nothing but a large file will break into pieces which can be merged again to form original file without any data loss)**"
      ],
      "metadata": {
        "id": "lZzz9HO8x5c1"
      }
    },
    {
      "cell_type": "code",
      "source": [
        "file_to_split = '/replace with your file path'\n",
        "\n",
        "output_folder = '/replace with your file path'\n",
        "\n",
        "#splits the file into chunks as 1.9Gb Each\n",
        "split_file(file_to_split,chunk_size = 1990 * 1024 * 1024, output_folder=output_folder)"
      ],
      "metadata": {
        "id": "yX9cGJ92qkNT"
      },
      "execution_count": null,
      "outputs": []
    },
    {
      "cell_type": "markdown",
      "source": [
        "**Below Cell will merge your chunks to original file**"
      ],
      "metadata": {
        "id": "7poXXXevysgI"
      }
    },
    {
      "cell_type": "code",
      "source": [
        "input_folder = 'replace with your folder path'\n",
        "\n",
        "#remember to give correct file extension as the original splitted file's extension\n",
        "#if you splitted the .mp4 file the output filename's extension should be .mp4 example marriage_video.mp4\n",
        "\n",
        "output_filename = '/replace with you filename.extension'\n",
        "\n",
        "merge_chunks(input_folder, output_filename)"
      ],
      "metadata": {
        "id": "EFV2W9xjtbK8"
      },
      "execution_count": null,
      "outputs": []
    }
  ]
}
