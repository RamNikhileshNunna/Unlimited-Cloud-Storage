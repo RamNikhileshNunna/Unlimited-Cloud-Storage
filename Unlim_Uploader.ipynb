{
  "cells": [
    {
      "cell_type": "markdown",
      "metadata": {
        "id": "x9fS6rU39hcJ"
      },
      "source": [
        "**Run this cell for installing necessary libraries**"
      ]
    },
    {
      "cell_type": "code",
      "execution_count": null,
      "metadata": {
        "id": "Wu3EUJfntcK_"
      },
      "outputs": [],
      "source": [
        "!pip install telethon\n",
        "!pip install tqdm"
      ]
    },
    {
      "cell_type": "markdown",
      "metadata": {
        "id": "VBeGDPz888v8"
      },
      "source": [
        "**Use This only if you Want to upload files from google drive to unlim and you should use colab environment to use this google drive upload feature**"
      ]
    },
    {
      "cell_type": "code",
      "execution_count": 2,
      "metadata": {
        "colab": {
          "base_uri": "https://localhost:8080/"
        },
        "id": "OAHRSHM88D2s",
        "outputId": "45e941d4-8678-4257-bfb0-70af5cdaabe0"
      },
      "outputs": [
        {
          "output_type": "stream",
          "name": "stdout",
          "text": [
            "Mounted at /content/drive\n"
          ]
        }
      ],
      "source": [
        "from google.colab import drive\n",
        "drive.mount(\"/content/drive\", force_remount=True)"
      ]
    },
    {
      "cell_type": "markdown",
      "metadata": {
        "id": "QqnqjKP__OLz"
      },
      "source": [
        "Get Your Telegram API credentials here [https://my.telegram.org/]\n",
        "\n",
        "Follow The below Steps to get your details easily\n",
        "\n",
        "1.   open the url [https://my.telegram.org/]\n",
        "2.   Enter Your Mobile Number with Country code and click next\n",
        "3.   Enter the received Code\n",
        "4.   click API development tools\n",
        "5.   Enter The app title as Unlimited-Cloud-Storage and short name\n",
        "6.   Now You will get you api id and api hash id copy and paste them in below cell\n",
        "7.   note: both api_id and api_hash are string varibles make sure you entered with in single or double quotes.\n",
        "\n"
      ]
    },
    {
      "cell_type": "code",
      "execution_count": null,
      "metadata": {
        "id": "MZN7NjPI__np"
      },
      "outputs": [],
      "source": [
        "api_id = ''\n",
        "api_hash = ''\n",
        "# Replace with the @username of your personal account username\n",
        "# find you username at telegram -> settings -> username\n",
        "# if you don't have Create username\n",
        "proxy_channel_username = '@yourusername'"
      ]
    },
    {
      "cell_type": "markdown",
      "source": [
        "**Use This Below cell to Upload a single file**"
      ],
      "metadata": {
        "id": "xVF7bIhHq5Cx"
      }
    },
    {
      "cell_type": "code",
      "execution_count": null,
      "metadata": {
        "id": "BTjmjhnT2Qq_"
      },
      "outputs": [],
      "source": [
        "import asyncio\n",
        "from telethon import TelegramClient\n",
        "import os\n",
        "from tqdm import tqdm\n",
        "import time\n",
        "async def upload_to_telegram(file_path):\n",
        "\n",
        "    client = TelegramClient(r'my_session', api_id, api_hash)\n",
        "\n",
        "    async with client:\n",
        "        await client.start()\n",
        "        caption='dir--0--/dir'\n",
        "        file_size = os.path.getsize(file_path)\n",
        "        # Create a tqdm progress bar\n",
        "        pbar = tqdm(total=file_size, unit='B', unit_scale=True, desc=file_path)\n",
        "        # Define a progress callback for updating the progress bar\n",
        "        async def progress_callback(current, total):\n",
        "             pbar.update(current - pbar.n)\n",
        "        # Send the file with progress tracking\n",
        "        proxy_entity = await client.get_entity(proxy_channel_username)\n",
        "        message = await client.send_file(\n",
        "            proxy_entity,\n",
        "            file_path,\n",
        "            caption=caption,\n",
        "            progress_callback=progress_callback\n",
        "            )\n",
        "        pbar.close()  # Close the progress bar\n",
        "        # Optional delay between uploads to avoid rate limiting\n",
        "        time.sleep(2)\n",
        "        print('File Uploaded')\n",
        "async def main():\n",
        "    file_to_upload = r\"Your file path\"\n",
        "    await upload_to_telegram(file_to_upload)\n",
        "\n",
        "await main()\n"
      ]
    },
    {
      "cell_type": "markdown",
      "source": [
        "**Use this below cell to upload all files in a folder**"
      ],
      "metadata": {
        "id": "nOPtdHETrME-"
      }
    },
    {
      "cell_type": "code",
      "execution_count": null,
      "metadata": {
        "id": "s5vJG8avijlA"
      },
      "outputs": [],
      "source": [
        "import asyncio\n",
        "import os\n",
        "import time\n",
        "from telethon import TelegramClient\n",
        "from tqdm import tqdm\n",
        "async def upload_files(upload_directory):\n",
        "    client = TelegramClient(r'my_session', api_id, api_hash)\n",
        "\n",
        "    async with client:\n",
        "        await client.start()\n",
        "        caption = 'dir--0/--/dir'\n",
        "        proxy_entity = await client.get_entity(proxy_channel_username)\n",
        "        list = []\n",
        "        for filename in os.listdir(upload_directory):\n",
        "            list.append(filename)\n",
        "        list.sort()\n",
        "        list.reverse()\n",
        "        for filename in list:\n",
        "            file_path = os.path.join(upload_directory, filename)\n",
        "            file_size = os.path.getsize(file_path)\n",
        "            pbar = tqdm(total=file_size, unit='B', unit_scale=True, desc=file_path)\n",
        "            async def progress_callback(current, total):\n",
        "                pbar.update(current - pbar.n)\n",
        "            # Send the file with progress tracking\n",
        "            message = await client.send_file(\n",
        "            proxy_entity,\n",
        "            file_path,\n",
        "            caption=caption,\n",
        "            progress_callback=progress_callback\n",
        "            )\n",
        "            pbar.close()\n",
        "            time.sleep(2)\n",
        "            #uncomment below line if you want to delete source files after the sucessful upload\n",
        "            #os.remove(file_path)\n",
        "async def main():\n",
        "    upload_directory = r'/path to you directory'  # Your directory\n",
        "    await upload_files(upload_directory)\n",
        "await main()"
      ]
    }
  ],
  "metadata": {
    "colab": {
      "provenance": []
    },
    "kernelspec": {
      "display_name": "Python 3",
      "name": "python3"
    },
    "language_info": {
      "name": "python"
    }
  },
  "nbformat": 4,
  "nbformat_minor": 0
}
